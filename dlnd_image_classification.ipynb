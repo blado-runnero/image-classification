{
 "cells": [
  {
   "cell_type": "markdown",
   "metadata": {
    "collapsed": true
   },
   "source": [
    "# Image Classification\n",
    "In this project, you'll classify images from the [CIFAR-10 dataset](https://www.cs.toronto.edu/~kriz/cifar.html).  The dataset consists of airplanes, dogs, cats, and other objects. You'll preprocess the images, then train a convolutional neural network on all the samples. The images need to be normalized and the labels need to be one-hot encoded.  You'll get to apply what you learned and build a convolutional, max pooling, dropout, and fully connected layers.  At the end, you'll get to see your neural network's predictions on the sample images.\n",
    "## Get the Data\n",
    "Run the following cell to download the [CIFAR-10 dataset for python](https://www.cs.toronto.edu/~kriz/cifar-10-python.tar.gz)."
   ]
  },
  {
   "cell_type": "code",
   "execution_count": 2,
   "metadata": {},
   "outputs": [
    {
     "name": "stderr",
     "output_type": "stream",
     "text": [
      "CIFAR-10 Dataset: 171MB [03:51, 737KB/s]                                \n"
     ]
    },
    {
     "name": "stdout",
     "output_type": "stream",
     "text": [
      "All files found!\n"
     ]
    }
   ],
   "source": [
    "\"\"\"\n",
    "DON'T MODIFY ANYTHING IN THIS CELL THAT IS BELOW THIS LINE\n",
    "\"\"\"\n",
    "from urllib.request import urlretrieve\n",
    "from os.path import isfile, isdir\n",
    "from tqdm import tqdm\n",
    "import problem_unittests as tests\n",
    "import tarfile\n",
    "\n",
    "cifar10_dataset_folder_path = 'cifar-10-batches-py'\n",
    "\n",
    "# Use Floyd's cifar-10 dataset if present\n",
    "floyd_cifar10_location = '/input/cifar-10/python.tar.gz'\n",
    "if isfile(floyd_cifar10_location):\n",
    "    tar_gz_path = floyd_cifar10_location\n",
    "else:\n",
    "    tar_gz_path = 'cifar-10-python.tar.gz'\n",
    "\n",
    "class DLProgress(tqdm):\n",
    "    last_block = 0\n",
    "\n",
    "    def hook(self, block_num=1, block_size=1, total_size=None):\n",
    "        self.total = total_size\n",
    "        self.update((block_num - self.last_block) * block_size)\n",
    "        self.last_block = block_num\n",
    "\n",
    "if not isfile(tar_gz_path):\n",
    "    with DLProgress(unit='B', unit_scale=True, miniters=1, desc='CIFAR-10 Dataset') as pbar:\n",
    "        urlretrieve(\n",
    "            'https://www.cs.toronto.edu/~kriz/cifar-10-python.tar.gz',\n",
    "            tar_gz_path,\n",
    "            pbar.hook)\n",
    "\n",
    "if not isdir(cifar10_dataset_folder_path):\n",
    "    with tarfile.open(tar_gz_path) as tar:\n",
    "        tar.extractall()\n",
    "        tar.close()\n",
    "\n",
    "\n",
    "tests.test_folder_path(cifar10_dataset_folder_path)"
   ]
  },
  {
   "cell_type": "markdown",
   "metadata": {},
   "source": [
    "## Explore the Data\n",
    "The dataset is broken into batches to prevent your machine from running out of memory.  The CIFAR-10 dataset consists of 5 batches, named `data_batch_1`, `data_batch_2`, etc.. Each batch contains the labels and images that are one of the following:\n",
    "* airplane\n",
    "* automobile\n",
    "* bird\n",
    "* cat\n",
    "* deer\n",
    "* dog\n",
    "* frog\n",
    "* horse\n",
    "* ship\n",
    "* truck\n",
    "\n",
    "Understanding a dataset is part of making predictions on the data.  Play around with the code cell below by changing the `batch_id` and `sample_id`. The `batch_id` is the id for a batch (1-5). The `sample_id` is the id for a image and label pair in the batch.\n",
    "\n",
    "Ask yourself \"What are all possible labels?\", \"What is the range of values for the image data?\", \"Are the labels in order or random?\".  Answers to questions like these will help you preprocess the data and end up with better predictions."
   ]
  },
  {
   "cell_type": "code",
   "execution_count": 4,
   "metadata": {},
   "outputs": [
    {
     "name": "stdout",
     "output_type": "stream",
     "text": [
      "\n",
      "Stats of batch 1:\n",
      "Samples: 10000\n",
      "Label Counts: {0: 1005, 1: 974, 2: 1032, 3: 1016, 4: 999, 5: 937, 6: 1030, 7: 1001, 8: 1025, 9: 981}\n",
      "First 20 Labels: [6, 9, 9, 4, 1, 1, 2, 7, 8, 3, 4, 7, 7, 2, 9, 9, 9, 3, 2, 6]\n",
      "\n",
      "Example of Image 55:\n",
      "Image - Min Value: 15 Max Value: 255\n",
      "Image - Shape: (32, 32, 3)\n",
      "Label - Label Id: 2 Name: bird\n"
     ]
    },
    {
     "data": {
      "image/png": "[encoded data removed]",
      "text/plain": [
       "<matplotlib.figure.Figure at 0x7f73a9e3df60>"
      ]
     },
     "metadata": {
      "image/png": {
       "height": 250,
       "width": 253
      }
     },
     "output_type": "display_data"
    }
   ],
   "source": [
    "%matplotlib inline\n",
    "%config InlineBackend.figure_format = 'retina'\n",
    "\n",
    "import helper\n",
    "import numpy as np\n",
    "\n",
    "# Explore the dataset\n",
    "batch_id = 1\n",
    "sample_id = 55\n",
    "helper.display_stats(cifar10_dataset_folder_path, batch_id, sample_id)"
   ]
  },
  {
   "cell_type": "markdown",
   "metadata": {},
   "source": [
    "## Implement Preprocess Functions\n",
    "### Normalize\n",
    "In the cell below, implement the `normalize` function to take in image data, `x`, and return it as a normalized Numpy array. The values should be in the range of 0 to 1, inclusive.  The return object should be the same shape as `x`."
   ]
  },
  {
   "cell_type": "code",
   "execution_count": 6,
   "metadata": {},
   "outputs": [
    {
     "name": "stdout",
     "output_type": "stream",
     "text": [
      "Tests Passed\n"
     ]
    }
   ],
   "source": [
    "def normalize(x):\n",
    "    \"\"\"\n",
    "    Normalize a list of sample image data in the range of 0 to 1\n",
    "    : x: List of image data.  The image shape is (32, 32, 3)\n",
    "    : return: Numpy array of normalize data\n",
    "    \"\"\"\n",
    "    # TODO: Implement Function\n",
    "    \n",
    "    return x/255\n",
    "\n",
    "\n",
    "\"\"\"\n",
    "DON'T MODIFY ANYTHING IN THIS CELL THAT IS BELOW THIS LINE\n",
    "\"\"\"\n",
    "tests.test_normalize(normalize)"
   ]
  },
  {
   "cell_type": "markdown",
   "metadata": {},
   "source": [
    "### One-hot encode\n",
    "Just like the previous code cell, you'll be implementing a function for preprocessing.  This time, you'll implement the `one_hot_encode` function. The input, `x`, are a list of labels.  Implement the function to return the list of labels as One-Hot encoded Numpy array.  The possible values for labels are 0 to 9. The one-hot encoding function should return the same encoding for each value between each call to `one_hot_encode`.  Make sure to save the map of encodings outside the function.\n",
    "\n",
    "Hint: Don't reinvent the wheel."
   ]
  },
  {
   "cell_type": "code",
   "execution_count": 7,
   "metadata": {},
   "outputs": [
    {
     "name": "stdout",
     "output_type": "stream",
     "text": [
      "Tests Passed\n"
     ]
    }
   ],
   "source": [
    "def one_hot_encode(x):\n",
    "    \"\"\"\n",
    "    One hot encode a list of sample labels. Return a one-hot encoded vector for each label.\n",
    "    : x: List of sample Labels\n",
    "    : return: Numpy array of one-hot encoded labels\n",
    "    \"\"\"\n",
    "    # TODO: Implement Function\n",
    "    return np.eye(10)[x]\n",
    "\n",
    "\n",
    "\"\"\"\n",
    "DON'T MODIFY ANYTHING IN THIS CELL THAT IS BELOW THIS LINE\n",
    "\"\"\"\n",
    "tests.test_one_hot_encode(one_hot_encode)"
   ]
  },
  {
   "cell_type": "markdown",
   "metadata": {},
   "source": [
    "### Randomize Data\n",
    "As you saw from exploring the data above, the order of the samples are randomized.  It doesn't hurt to randomize it again, but you don't need to for this dataset."
   ]
  },
  {
   "cell_type": "markdown",
   "metadata": {},
   "source": [
    "## Preprocess all the data and save it\n",
    "Running the code cell below will preprocess all the CIFAR-10 data and save it to file. The code below also uses 10% of the training data for validation."
   ]
  },
  {
   "cell_type": "code",
   "execution_count": 8,
   "metadata": {
    "collapsed": true
   },
   "outputs": [],
   "source": [
    "\"\"\"\n",
    "DON'T MODIFY ANYTHING IN THIS CELL\n",
    "\"\"\"\n",
    "# Preprocess Training, Validation, and Testing Data\n",
    "helper.preprocess_and_save_data(cifar10_dataset_folder_path, normalize, one_hot_encode)"
   ]
  },
  {
   "cell_type": "markdown",
   "metadata": {},
   "source": [
    "# Check Point\n",
    "This is your first checkpoint.  If you ever decide to come back to this notebook or have to restart the notebook, you can start from here.  The preprocessed data has been saved to disk."
   ]
  },
  {
   "cell_type": "code",
   "execution_count": 9,
   "metadata": {
    "collapsed": true
   },
   "outputs": [],
   "source": [
    "\"\"\"\n",
    "DON'T MODIFY ANYTHING IN THIS CELL\n",
    "\"\"\"\n",
    "import pickle\n",
    "import problem_unittests as tests\n",
    "import helper\n",
    "\n",
    "# Load the Preprocessed Validation data\n",
    "valid_features, valid_labels = pickle.load(open('preprocess_validation.p', mode='rb'))"
   ]
  },
  {
   "cell_type": "markdown",
   "metadata": {},
   "source": [
    "## Build the network\n",
    "For the neural network, you'll build each layer into a function.  Most of the code you've seen has been outside of functions. To test your code more thoroughly, we require that you put each layer in a function.  This allows us to give you better feedback and test for simple mistakes using our unittests before you submit your project.\n",
    "\n",
    ">**Note:** If you're finding it hard to dedicate enough time for this course each week, we've provided a small shortcut to this part of the project. In the next couple of problems, you'll have the option to use classes from the [TensorFlow Layers](https://www.tensorflow.org/api_docs/python/tf/layers) or [TensorFlow Layers (contrib)](https://www.tensorflow.org/api_guides/python/contrib.layers) packages to build each layer, except the layers you build in the \"Convolutional and Max Pooling Layer\" section.  TF Layers is similar to Keras's and TFLearn's abstraction to layers, so it's easy to pickup.\n",
    "\n",
    ">However, if you would like to get the most out of this course, try to solve all the problems _without_ using anything from the TF Layers packages. You **can** still use classes from other packages that happen to have the same name as ones you find in TF Layers! For example, instead of using the TF Layers version of the `conv2d` class, [tf.layers.conv2d](https://www.tensorflow.org/api_docs/python/tf/layers/conv2d), you would want to use the TF Neural Network version of `conv2d`, [tf.nn.conv2d](https://www.tensorflow.org/api_docs/python/tf/nn/conv2d). \n",
    "\n",
    "Let's begin!\n",
    "\n",
    "### Input\n",
    "The neural network needs to read the image data, one-hot encoded labels, and dropout keep probability. Implement the following functions\n",
    "* Implement `neural_net_image_input`\n",
    " * Return a [TF Placeholder](https://www.tensorflow.org/api_docs/python/tf/placeholder)\n",
    " * Set the shape using `image_shape` with batch size set to `None`.\n",
    " * Name the TensorFlow placeholder \"x\" using the TensorFlow `name` parameter in the [TF Placeholder](https://www.tensorflow.org/api_docs/python/tf/placeholder).\n",
    "* Implement `neural_net_label_input`\n",
    " * Return a [TF Placeholder](https://www.tensorflow.org/api_docs/python/tf/placeholder)\n",
    " * Set the shape using `n_classes` with batch size set to `None`.\n",
    " * Name the TensorFlow placeholder \"y\" using the TensorFlow `name` parameter in the [TF Placeholder](https://www.tensorflow.org/api_docs/python/tf/placeholder).\n",
    "* Implement `neural_net_keep_prob_input`\n",
    " * Return a [TF Placeholder](https://www.tensorflow.org/api_docs/python/tf/placeholder) for dropout keep probability.\n",
    " * Name the TensorFlow placeholder \"keep_prob\" using the TensorFlow `name` parameter in the [TF Placeholder](https://www.tensorflow.org/api_docs/python/tf/placeholder).\n",
    "\n",
    "These names will be used at the end of the project to load your saved model.\n",
    "\n",
    "Note: `None` for shapes in TensorFlow allow for a dynamic size."
   ]
  },
  {
   "cell_type": "code",
   "execution_count": 10,
   "metadata": {},
   "outputs": [
    {
     "name": "stdout",
     "output_type": "stream",
     "text": [
      "Image Input Tests Passed.\n",
      "Label Input Tests Passed.\n",
      "Keep Prob Tests Passed.\n"
     ]
    }
   ],
   "source": [
    "import tensorflow as tf\n",
    "\n",
    "def neural_net_image_input(image_shape):\n",
    "    \"\"\"\n",
    "    Return a Tensor for a bach of image input\n",
    "    : image_shape: Shape of the images\n",
    "    : return: Tensor for image input.\n",
    "    \"\"\"\n",
    "    # TODO: Implement Function\n",
    "    return tf.placeholder(tf.float32, [None, image_shape[0],image_shape[1],image_shape[2]], name='x')\n",
    "\n",
    "\n",
    "def neural_net_label_input(n_classes):\n",
    "    \"\"\"\n",
    "    Return a Tensor for a batch of label input\n",
    "    : n_classes: Number of classes\n",
    "    : return: Tensor for label input.\n",
    "    \"\"\"\n",
    "    # TODO: Implement Function\n",
    "    return tf.placeholder(tf.float32, [None, n_classes], name='y')\n",
    "\n",
    "\n",
    "def neural_net_keep_prob_input():\n",
    "    \"\"\"\n",
    "    Return a Tensor for keep probability\n",
    "    : return: Tensor for keep probability.\n",
    "    \"\"\"\n",
    "    # TODO: Implement Function\n",
    "    return tf.placeholder(tf.float32, name='keep_prob')\n",
    "\n",
    "\n",
    "\"\"\"\n",
    "DON'T MODIFY ANYTHING IN THIS CELL THAT IS BELOW THIS LINE\n",
    "\"\"\"\n",
    "tf.reset_default_graph()\n",
    "tests.test_nn_image_inputs(neural_net_image_input)\n",
    "tests.test_nn_label_inputs(neural_net_label_input)\n",
    "tests.test_nn_keep_prob_inputs(neural_net_keep_prob_input)"
   ]
  },
  {
   "cell_type": "markdown",
   "metadata": {},
   "source": [
    "### Convolution and Max Pooling Layer\n",
    "Convolution layers have a lot of success with images. For this code cell, you should implement the function `conv2d_maxpool` to apply convolution then max pooling:\n",
    "* Create the weight and bias using `conv_ksize`, `conv_num_outputs` and the shape of `x_tensor`.\n",
    "* Apply a convolution to `x_tensor` using weight and `conv_strides`.\n",
    " * We recommend you use same padding, but you're welcome to use any padding.\n",
    "* Add bias\n",
    "* Add a nonlinear activation to the convolution.\n",
    "* Apply Max Pooling using `pool_ksize` and `pool_strides`.\n",
    " * We recommend you use same padding, but you're welcome to use any padding.\n",
    "\n",
    "**Note:** You **can't** use [TensorFlow Layers](https://www.tensorflow.org/api_docs/python/tf/layers) or [TensorFlow Layers (contrib)](https://www.tensorflow.org/api_guides/python/contrib.layers) for **this** layer, but you can still use TensorFlow's [Neural Network](https://www.tensorflow.org/api_docs/python/tf/nn) package. You may still use the shortcut option for all the **other** layers."
   ]
  },
  {
   "cell_type": "code",
   "execution_count": 11,
   "metadata": {},
   "outputs": [
    {
     "name": "stdout",
     "output_type": "stream",
     "text": [
      "Tests Passed\n"
     ]
    }
   ],
   "source": [
    "def conv2d_maxpool(x_tensor, conv_num_outputs, conv_ksize, conv_strides, pool_ksize, pool_strides):\n",
    "    \"\"\"\n",
    "    Apply convolution then max pooling to x_tensor\n",
    "    :param x_tensor: TensorFlow Tensor\n",
    "    :param conv_num_outputs: Number of outputs for the convolutional layer\n",
    "    :param conv_strides: Stride 2-D Tuple for convolution\n",
    "    :param pool_ksize: kernal size 2-D Tuple for pool\n",
    "    :param pool_strides: Stride 2-D Tuple for pool\n",
    "    : return: A tensor that represents convolution and max pooling of x_tensor\n",
    "    \"\"\"\n",
    "    # TODO: Implement Function\n",
    "    weight = tf.Variable(tf.random_normal([conv_ksize[0],\n",
    "                                           conv_ksize[1],\n",
    "                                           x_tensor.get_shape().as_list()[-1], \n",
    "                                           conv_num_outputs],\n",
    "                                         stddev=0.1))\n",
    "    bias = tf.Variable(tf.zeros(conv_num_outputs, dtype=tf.float32))\n",
    "    conv_layer = tf.nn.conv2d(x_tensor, weight, strides=[1, conv_strides[0], conv_strides[1], 1], padding='SAME')\n",
    "    conv_layer = tf.nn.bias_add(conv_layer, bias)\n",
    "    conv_layer = tf.nn.relu(conv_layer)\n",
    "    conv_layer = tf.nn.max_pool(conv_layer, \n",
    "                                ksize=[1, pool_ksize[0], pool_ksize[1], 1], \n",
    "                                strides=[1, pool_strides[0], pool_strides[1], 1],\n",
    "                                padding='SAME')\n",
    "    return conv_layer\n",
    "\n",
    "\n",
    "\"\"\"\n",
    "DON'T MODIFY ANYTHING IN THIS CELL THAT IS BELOW THIS LINE\n",
    "\"\"\"\n",
    "tests.test_con_pool(conv2d_maxpool)"
   ]
  },
  {
   "cell_type": "markdown",
   "metadata": {},
   "source": [
    "### Flatten Layer\n",
    "Implement the `flatten` function to change the dimension of `x_tensor` from a 4-D tensor to a 2-D tensor.  The output should be the shape (*Batch Size*, *Flattened Image Size*). Shortcut option: you can use classes from the [TensorFlow Layers](https://www.tensorflow.org/api_docs/python/tf/layers) or [TensorFlow Layers (contrib)](https://www.tensorflow.org/api_guides/python/contrib.layers) packages for this layer. For more of a challenge, only use other TensorFlow packages."
   ]
  },
  {
   "cell_type": "code",
   "execution_count": 12,
   "metadata": {},
   "outputs": [
    {
     "name": "stdout",
     "output_type": "stream",
     "text": [
      "Tests Passed\n"
     ]
    }
   ],
   "source": [
    "def flatten(x_tensor):\n",
    "    \"\"\"\n",
    "    Flatten x_tensor to (Batch Size, Flattened Image Size)\n",
    "    : x_tensor: A tensor of size (Batch Size, ...), where ... are the image dimensions.\n",
    "    : return: A tensor of size (Batch Size, Flattened Image Size).\n",
    "    \"\"\"\n",
    "    # TODO: Implement Function\n",
    "    flattened_size = x_tensor.shape[1] * x_tensor.shape[2] * x_tensor.shape[3]\n",
    "    return tf.reshape(x_tensor, [-1, flattened_size.value])\n",
    "\n",
    "\n",
    "\"\"\"\n",
    "DON'T MODIFY ANYTHING IN THIS CELL THAT IS BELOW THIS LINE\n",
    "\"\"\"\n",
    "tests.test_flatten(flatten)"
   ]
  },
  {
   "cell_type": "markdown",
   "metadata": {},
   "source": [
    "### Fully-Connected Layer\n",
    "Implement the `fully_conn` function to apply a fully connected layer to `x_tensor` with the shape (*Batch Size*, *num_outputs*). Shortcut option: you can use classes from the [TensorFlow Layers](https://www.tensorflow.org/api_docs/python/tf/layers) or [TensorFlow Layers (contrib)](https://www.tensorflow.org/api_guides/python/contrib.layers) packages for this layer. For more of a challenge, only use other TensorFlow packages."
   ]
  },
  {
   "cell_type": "code",
   "execution_count": 13,
   "metadata": {},
   "outputs": [
    {
     "name": "stdout",
     "output_type": "stream",
     "text": [
      "Tests Passed\n"
     ]
    }
   ],
   "source": [
    "def fully_conn(x_tensor, num_outputs):\n",
    "    \"\"\"\n",
    "    Apply a fully connected layer to x_tensor using weight and bias\n",
    "    : x_tensor: A 2-D tensor where the first dimension is batch size.\n",
    "    : num_outputs: The number of output that the new tensor should be.\n",
    "    : return: A 2-D tensor where the second dimension is num_outputs.\n",
    "    \"\"\"\n",
    "    # TODO: Implement Function\n",
    "    num_features = x_tensor.shape[1].value\n",
    "    weights = tf.Variable(tf.random_normal([num_features, num_outputs], stddev=0.1))\n",
    "    biases = tf.Variable(tf.zeros([num_outputs]))\n",
    "    fc = tf.add(tf.matmul(x_tensor, weights), biases)\n",
    "    fc = tf.nn.relu(fc)\n",
    "    return fc\n",
    "\n",
    "\n",
    "\"\"\"\n",
    "DON'T MODIFY ANYTHING IN THIS CELL THAT IS BELOW THIS LINE\n",
    "\"\"\"\n",
    "tests.test_fully_conn(fully_conn)"
   ]
  },
  {
   "cell_type": "markdown",
   "metadata": {},
   "source": [
    "### Output Layer\n",
    "Implement the `output` function to apply a fully connected layer to `x_tensor` with the shape (*Batch Size*, *num_outputs*). Shortcut option: you can use classes from the [TensorFlow Layers](https://www.tensorflow.org/api_docs/python/tf/layers) or [TensorFlow Layers (contrib)](https://www.tensorflow.org/api_guides/python/contrib.layers) packages for this layer. For more of a challenge, only use other TensorFlow packages.\n",
    "\n",
    "**Note:** Activation, softmax, or cross entropy should **not** be applied to this."
   ]
  },
  {
   "cell_type": "code",
   "execution_count": 14,
   "metadata": {},
   "outputs": [
    {
     "name": "stdout",
     "output_type": "stream",
     "text": [
      "Tests Passed\n"
     ]
    }
   ],
   "source": [
    "def output(x_tensor, num_outputs):\n",
    "    \"\"\"\n",
    "    Apply a output layer to x_tensor using weight and bias\n",
    "    : x_tensor: A 2-D tensor where the first dimension is batch size.\n",
    "    : num_outputs: The number of output that the new tensor should be.\n",
    "    : return: A 2-D tensor where the second dimension is num_outputs.\n",
    "    \"\"\"\n",
    "    # TODO: Implement Function\n",
    "    num_features = x_tensor.shape[1].value\n",
    "    weights = tf.Variable(tf.random_normal([num_features, num_outputs], stddev=0.1))\n",
    "    biases = tf.Variable(tf.zeros([num_outputs]))\n",
    "    output_layer = tf.add(tf.matmul(x_tensor, weights), biases)\n",
    "    return output_layer\n",
    "\n",
    "\n",
    "\"\"\"\n",
    "DON'T MODIFY ANYTHING IN THIS CELL THAT IS BELOW THIS LINE\n",
    "\"\"\"\n",
    "tests.test_output(output)"
   ]
  },
  {
   "cell_type": "markdown",
   "metadata": {},
   "source": [
    "### Create Convolutional Model\n",
    "Implement the function `conv_net` to create a convolutional neural network model. The function takes in a batch of images, `x`, and outputs logits.  Use the layers you created above to create this model:\n",
    "\n",
    "* Apply 1, 2, or 3 Convolution and Max Pool layers\n",
    "* Apply a Flatten Layer\n",
    "* Apply 1, 2, or 3 Fully Connected Layers\n",
    "* Apply an Output Layer\n",
    "* Return the output\n",
    "* Apply [TensorFlow's Dropout](https://www.tensorflow.org/api_docs/python/tf/nn/dropout) to one or more layers in the model using `keep_prob`. "
   ]
  },
  {
   "cell_type": "code",
   "execution_count": 15,
   "metadata": {},
   "outputs": [
    {
     "name": "stdout",
     "output_type": "stream",
     "text": [
      "Neural Network Built!\n"
     ]
    }
   ],
   "source": [
    "def conv_net(x, keep_prob):\n",
    "    \"\"\"\n",
    "    Create a convolutional neural network model\n",
    "    : x: Placeholder tensor that holds image data.\n",
    "    : keep_prob: Placeholder tensor that hold dropout keep probability.\n",
    "    : return: Tensor that represents logits\n",
    "    \"\"\"\n",
    "    # TODO: Apply 1, 2, or 3 Convolution and Max Pool layers\n",
    "    #    Play around with different number of outputs, kernel size and stride\n",
    "    # Function Definition from Above:\n",
    "    #    conv2d_maxpool(x_tensor, conv_num_outputs, conv_ksize, conv_strides, pool_ksize, pool_strides)\n",
    "    x = conv2d_maxpool(x, 8, (4, 4), (1, 1), (2, 2), (2, 2))\n",
    "    x = conv2d_maxpool(x, 16, (4, 4), (1, 1), (2, 2), (2, 2))\n",
    "    x = conv2d_maxpool(x, 32, (4, 4), (1, 1), (2, 2), (2, 2))\n",
    "    \n",
    "    # TODO: Apply a Flatten Layer\n",
    "    # Function Definition from Above:\n",
    "    #   flatten(x_tensor)\n",
    "    x = flatten(x)\n",
    "\n",
    "    # TODO: Apply 1, 2, or 3 Fully Connected Layers\n",
    "    #    Play around with different number of outputs\n",
    "    # Function Definition from Above:\n",
    "    #   fully_conn(x_tensor, num_outputs)\n",
    "    x = fully_conn(x, 1024)\n",
    "    x = tf.nn.dropout(x, keep_prob=keep_prob)\n",
    "    x = fully_conn(x, 1024)\n",
    "    x = tf.nn.dropout(x, keep_prob=keep_prob)\n",
    "        \n",
    "    # TODO: Apply an Output Layer\n",
    "    #    Set this to the number of classes\n",
    "    # Function Definition from Above:\n",
    "    #   output(x_tensor, num_outputs)\n",
    "    x = output(x, 10)\n",
    "    \n",
    "    \n",
    "    # TODO: return output\n",
    "    return x\n",
    "\n",
    "\n",
    "\"\"\"\n",
    "DON'T MODIFY ANYTHING IN THIS CELL THAT IS BELOW THIS LINE\n",
    "\"\"\"\n",
    "\n",
    "##############################\n",
    "## Build the Neural Network ##\n",
    "##############################\n",
    "\n",
    "# Remove previous weights, bias, inputs, etc..\n",
    "tf.reset_default_graph()\n",
    "\n",
    "# Inputs\n",
    "x = neural_net_image_input((32, 32, 3))\n",
    "y = neural_net_label_input(10)\n",
    "keep_prob = neural_net_keep_prob_input()\n",
    "\n",
    "# Model\n",
    "logits = conv_net(x, keep_prob)\n",
    "\n",
    "# Name logits Tensor, so that is can be loaded from disk after training\n",
    "logits = tf.identity(logits, name='logits')\n",
    "\n",
    "# Loss and Optimizer\n",
    "cost = tf.reduce_mean(tf.nn.softmax_cross_entropy_with_logits(logits=logits, labels=y))\n",
    "optimizer = tf.train.AdamOptimizer().minimize(cost)\n",
    "\n",
    "# Accuracy\n",
    "correct_pred = tf.equal(tf.argmax(logits, 1), tf.argmax(y, 1))\n",
    "accuracy = tf.reduce_mean(tf.cast(correct_pred, tf.float32), name='accuracy')\n",
    "\n",
    "tests.test_conv_net(conv_net)"
   ]
  },
  {
   "cell_type": "markdown",
   "metadata": {},
   "source": [
    "## Train the Neural Network\n",
    "### Single Optimization\n",
    "Implement the function `train_neural_network` to do a single optimization.  The optimization should use `optimizer` to optimize in `session` with a `feed_dict` of the following:\n",
    "* `x` for image input\n",
    "* `y` for labels\n",
    "* `keep_prob` for keep probability for dropout\n",
    "\n",
    "This function will be called for each batch, so `tf.global_variables_initializer()` has already been called.\n",
    "\n",
    "Note: Nothing needs to be returned. This function is only optimizing the neural network."
   ]
  },
  {
   "cell_type": "code",
   "execution_count": 16,
   "metadata": {},
   "outputs": [
    {
     "name": "stdout",
     "output_type": "stream",
     "text": [
      "Tests Passed\n"
     ]
    }
   ],
   "source": [
    "def train_neural_network(session, optimizer, keep_probability, feature_batch, label_batch):\n",
    "    \"\"\"\n",
    "    Optimize the session on a batch of images and labels\n",
    "    : session: Current TensorFlow session\n",
    "    : optimizer: TensorFlow optimizer function\n",
    "    : keep_probability: keep probability\n",
    "    : feature_batch: Batch of Numpy image data\n",
    "    : label_batch: Batch of Numpy label data\n",
    "    \"\"\"\n",
    "    # TODO: Implement Function\n",
    "    session.run(optimizer, feed_dict={x:feature_batch, y:label_batch, keep_prob:keep_probability})\n",
    "\n",
    "\"\"\"\n",
    "DON'T MODIFY ANYTHING IN THIS CELL THAT IS BELOW THIS LINE\n",
    "\"\"\"\n",
    "tests.test_train_nn(train_neural_network)"
   ]
  },
  {
   "cell_type": "markdown",
   "metadata": {},
   "source": [
    "### Show Stats\n",
    "Implement the function `print_stats` to print loss and validation accuracy.  Use the global variables `valid_features` and `valid_labels` to calculate validation accuracy.  Use a keep probability of `1.0` to calculate the loss and validation accuracy."
   ]
  },
  {
   "cell_type": "code",
   "execution_count": 18,
   "metadata": {
    "collapsed": true
   },
   "outputs": [],
   "source": [
    "def print_stats(session, feature_batch, label_batch, cost, accuracy):\n",
    "    \"\"\"\n",
    "    Print information about loss and validation accuracy\n",
    "    : session: Current TensorFlow session\n",
    "    : feature_batch: Batch of Numpy image data\n",
    "    : label_batch: Batch of Numpy label data\n",
    "    : cost: TensorFlow cost function\n",
    "    : accuracy: TensorFlow accuracy function\n",
    "    \"\"\"\n",
    "    # TODO: Implement Function\n",
    "    loss = session.run(cost, feed_dict={x:feature_batch, \n",
    "                                        y:label_batch,\n",
    "                                        keep_prob:1.0}) \n",
    "    acc = session.run(accuracy, \n",
    "                feed_dict={x:valid_features, \n",
    "                           y:valid_labels, \n",
    "                           keep_prob:1.0})\n",
    "    print('Loss={0} ValidationAccuracy={1}'.format(loss, acc))\n",
    "    # print(\"ValidationAccuracy={0}\".format(acc))\n",
    "    "
   ]
  },
  {
   "cell_type": "markdown",
   "metadata": {},
   "source": [
    "### Hyperparameters\n",
    "Tune the following parameters:\n",
    "* Set `epochs` to the number of iterations until the network stops learning or start overfitting\n",
    "* Set `batch_size` to the highest number that your machine has memory for.  Most people set them to common sizes of memory:\n",
    " * 64\n",
    " * 128\n",
    " * 256\n",
    " * ...\n",
    "* Set `keep_probability` to the probability of keeping a node using dropout"
   ]
  },
  {
   "cell_type": "code",
   "execution_count": 19,
   "metadata": {
    "collapsed": true
   },
   "outputs": [],
   "source": [
    "# TODO: Tune Parameters\n",
    "epochs = 25\n",
    "batch_size = 1028\n",
    "keep_probability = 0.9"
   ]
  },
  {
   "cell_type": "markdown",
   "metadata": {},
   "source": [
    "### Train on a Single CIFAR-10 Batch\n",
    "Instead of training the neural network on all the CIFAR-10 batches of data, let's use a single batch. This should save time while you iterate on the model to get a better accuracy.  Once the final validation accuracy is 50% or greater, run the model on all the data in the next section."
   ]
  },
  {
   "cell_type": "code",
   "execution_count": 20,
   "metadata": {},
   "outputs": [
    {
     "name": "stdout",
     "output_type": "stream",
     "text": [
      "Checking the Training on a Single Batch...\n",
      "Epoch  1, CIFAR-10 Batch 1:  Loss=2.2370445728302 ValidationAccuracy=0.19040000438690186\n",
      "Epoch  2, CIFAR-10 Batch 1:  Loss=2.122164011001587 ValidationAccuracy=0.259799987077713\n",
      "Epoch  3, CIFAR-10 Batch 1:  Loss=1.9770748615264893 ValidationAccuracy=0.32260000705718994\n",
      "Epoch  4, CIFAR-10 Batch 1:  Loss=1.7916221618652344 ValidationAccuracy=0.3625999987125397\n",
      "Epoch  5, CIFAR-10 Batch 1:  Loss=1.6800990104675293 ValidationAccuracy=0.39480000734329224\n",
      "Epoch  6, CIFAR-10 Batch 1:  Loss=1.57879638671875 ValidationAccuracy=0.42179998755455017\n",
      "Epoch  7, CIFAR-10 Batch 1:  Loss=1.5010719299316406 ValidationAccuracy=0.4352000057697296\n",
      "Epoch  8, CIFAR-10 Batch 1:  Loss=1.4285223484039307 ValidationAccuracy=0.451200008392334\n",
      "Epoch  9, CIFAR-10 Batch 1:  Loss=1.3565343618392944 ValidationAccuracy=0.462799996137619\n",
      "Epoch 10, CIFAR-10 Batch 1:  Loss=1.2943899631500244 ValidationAccuracy=0.4690000116825104\n",
      "Epoch 11, CIFAR-10 Batch 1:  Loss=1.2403675317764282 ValidationAccuracy=0.47380000352859497\n",
      "Epoch 12, CIFAR-10 Batch 1:  Loss=1.1683399677276611 ValidationAccuracy=0.4878000020980835\n",
      "Epoch 13, CIFAR-10 Batch 1:  Loss=1.1049609184265137 ValidationAccuracy=0.4941999912261963\n",
      "Epoch 14, CIFAR-10 Batch 1:  Loss=1.0403141975402832 ValidationAccuracy=0.5008000135421753\n",
      "Epoch 15, CIFAR-10 Batch 1:  Loss=1.0156124830245972 ValidationAccuracy=0.49559998512268066\n",
      "Epoch 16, CIFAR-10 Batch 1:  Loss=0.9189411997795105 ValidationAccuracy=0.5041999816894531\n",
      "Epoch 17, CIFAR-10 Batch 1:  Loss=0.8668240308761597 ValidationAccuracy=0.503600001335144\n",
      "Epoch 18, CIFAR-10 Batch 1:  Loss=0.8341039419174194 ValidationAccuracy=0.5027999877929688\n",
      "Epoch 19, CIFAR-10 Batch 1:  Loss=0.7570158839225769 ValidationAccuracy=0.5095999836921692\n",
      "Epoch 20, CIFAR-10 Batch 1:  Loss=0.704803466796875 ValidationAccuracy=0.5144000053405762\n",
      "Epoch 21, CIFAR-10 Batch 1:  Loss=0.6816750764846802 ValidationAccuracy=0.5022000074386597\n",
      "Epoch 22, CIFAR-10 Batch 1:  Loss=0.6131386756896973 ValidationAccuracy=0.5054000020027161\n",
      "Epoch 23, CIFAR-10 Batch 1:  Loss=0.5472939610481262 ValidationAccuracy=0.5156000256538391\n",
      "Epoch 24, CIFAR-10 Batch 1:  Loss=0.5205788016319275 ValidationAccuracy=0.5139999985694885\n",
      "Epoch 25, CIFAR-10 Batch 1:  Loss=0.48017677664756775 ValidationAccuracy=0.5116000175476074\n"
     ]
    }
   ],
   "source": [
    "\"\"\"\n",
    "DON'T MODIFY ANYTHING IN THIS CELL\n",
    "\"\"\"\n",
    "print('Checking the Training on a Single Batch...')\n",
    "with tf.Session() as sess:\n",
    "    # Initializing the variables\n",
    "    sess.run(tf.global_variables_initializer())\n",
    "    \n",
    "    # Training cycle\n",
    "    for epoch in range(epochs):\n",
    "        batch_i = 1\n",
    "        for batch_features, batch_labels in helper.load_preprocess_training_batch(batch_i, batch_size):\n",
    "            train_neural_network(sess, optimizer, keep_probability, batch_features, batch_labels)\n",
    "        print('Epoch {:>2}, CIFAR-10 Batch {}:  '.format(epoch + 1, batch_i), end='')\n",
    "        print_stats(sess, batch_features, batch_labels, cost, accuracy)"
   ]
  },
  {
   "cell_type": "markdown",
   "metadata": {},
   "source": [
    "### Fully Train the Model\n",
    "Now that you got a good accuracy with a single CIFAR-10 batch, try it with all five batches."
   ]
  },
  {
   "cell_type": "code",
   "execution_count": 21,
   "metadata": {},
   "outputs": [
    {
     "name": "stdout",
     "output_type": "stream",
     "text": [
      "Training...\n",
      "Epoch  1, CIFAR-10 Batch 1:  Loss=2.2397539615631104 ValidationAccuracy=0.17339999973773956\n",
      "Epoch  1, CIFAR-10 Batch 2:  Loss=2.0948338508605957 ValidationAccuracy=0.23260000348091125\n",
      "Epoch  1, CIFAR-10 Batch 3:  Loss=1.974537968635559 ValidationAccuracy=0.30320000648498535\n",
      "Epoch  1, CIFAR-10 Batch 4:  Loss=1.8362815380096436 ValidationAccuracy=0.3391999900341034\n",
      "Epoch  1, CIFAR-10 Batch 5:  Loss=1.740591049194336 ValidationAccuracy=0.3779999911785126\n",
      "Epoch  2, CIFAR-10 Batch 1:  Loss=1.6282342672348022 ValidationAccuracy=0.42179998755455017\n",
      "Epoch  2, CIFAR-10 Batch 2:  Loss=1.575974941253662 ValidationAccuracy=0.44359999895095825\n",
      "Epoch  2, CIFAR-10 Batch 3:  Loss=1.4783284664154053 ValidationAccuracy=0.45159998536109924\n",
      "Epoch  2, CIFAR-10 Batch 4:  Loss=1.461018681526184 ValidationAccuracy=0.46480000019073486\n",
      "Epoch  2, CIFAR-10 Batch 5:  Loss=1.4598654508590698 ValidationAccuracy=0.47940000891685486\n",
      "Epoch  3, CIFAR-10 Batch 1:  Loss=1.4151171445846558 ValidationAccuracy=0.4796000123023987\n",
      "Epoch  3, CIFAR-10 Batch 2:  Loss=1.4095664024353027 ValidationAccuracy=0.49619999527931213\n",
      "Epoch  3, CIFAR-10 Batch 3:  Loss=1.3373239040374756 ValidationAccuracy=0.49639999866485596\n",
      "Epoch  3, CIFAR-10 Batch 4:  Loss=1.3100446462631226 ValidationAccuracy=0.5\n",
      "Epoch  3, CIFAR-10 Batch 5:  Loss=1.3269635438919067 ValidationAccuracy=0.5098000168800354\n",
      "Epoch  4, CIFAR-10 Batch 1:  Loss=1.2856169939041138 ValidationAccuracy=0.5148000121116638\n",
      "Epoch  4, CIFAR-10 Batch 2:  Loss=1.2935854196548462 ValidationAccuracy=0.5194000005722046\n",
      "Epoch  4, CIFAR-10 Batch 3:  Loss=1.235193133354187 ValidationAccuracy=0.527400016784668\n",
      "Epoch  4, CIFAR-10 Batch 4:  Loss=1.2101205587387085 ValidationAccuracy=0.526199996471405\n",
      "Epoch  4, CIFAR-10 Batch 5:  Loss=1.2207871675491333 ValidationAccuracy=0.5350000262260437\n",
      "Epoch  5, CIFAR-10 Batch 1:  Loss=1.1929996013641357 ValidationAccuracy=0.5455999970436096\n",
      "Epoch  5, CIFAR-10 Batch 2:  Loss=1.2010568380355835 ValidationAccuracy=0.5478000044822693\n",
      "Epoch  5, CIFAR-10 Batch 3:  Loss=1.1551188230514526 ValidationAccuracy=0.5455999970436096\n",
      "Epoch  5, CIFAR-10 Batch 4:  Loss=1.1139676570892334 ValidationAccuracy=0.550599992275238\n",
      "Epoch  5, CIFAR-10 Batch 5:  Loss=1.1257017850875854 ValidationAccuracy=0.5522000193595886\n",
      "Epoch  6, CIFAR-10 Batch 1:  Loss=1.1127275228500366 ValidationAccuracy=0.5619999766349792\n",
      "Epoch  6, CIFAR-10 Batch 2:  Loss=1.1241472959518433 ValidationAccuracy=0.5612000226974487\n",
      "Epoch  6, CIFAR-10 Batch 3:  Loss=1.082995891571045 ValidationAccuracy=0.5613999962806702\n",
      "Epoch  6, CIFAR-10 Batch 4:  Loss=1.0282963514328003 ValidationAccuracy=0.5636000037193298\n",
      "Epoch  6, CIFAR-10 Batch 5:  Loss=1.0404045581817627 ValidationAccuracy=0.5626000165939331\n",
      "Epoch  7, CIFAR-10 Batch 1:  Loss=1.0507862567901611 ValidationAccuracy=0.5709999799728394\n",
      "Epoch  7, CIFAR-10 Batch 2:  Loss=1.0686784982681274 ValidationAccuracy=0.5654000043869019\n",
      "Epoch  7, CIFAR-10 Batch 3:  Loss=1.0202655792236328 ValidationAccuracy=0.573199987411499\n",
      "Epoch  7, CIFAR-10 Batch 4:  Loss=0.9578033089637756 ValidationAccuracy=0.574999988079071\n",
      "Epoch  7, CIFAR-10 Batch 5:  Loss=0.96622633934021 ValidationAccuracy=0.5709999799728394\n",
      "Epoch  8, CIFAR-10 Batch 1:  Loss=0.9817699790000916 ValidationAccuracy=0.578000009059906\n",
      "Epoch  8, CIFAR-10 Batch 2:  Loss=0.9845142364501953 ValidationAccuracy=0.5856000185012817\n",
      "Epoch  8, CIFAR-10 Batch 3:  Loss=0.943904459476471 ValidationAccuracy=0.5856000185012817\n",
      "Epoch  8, CIFAR-10 Batch 4:  Loss=0.893782913684845 ValidationAccuracy=0.5849999785423279\n",
      "Epoch  8, CIFAR-10 Batch 5:  Loss=0.9093192219734192 ValidationAccuracy=0.5722000002861023\n",
      "Epoch  9, CIFAR-10 Batch 1:  Loss=0.9197645783424377 ValidationAccuracy=0.5875999927520752\n",
      "Epoch  9, CIFAR-10 Batch 2:  Loss=0.9254844188690186 ValidationAccuracy=0.5870000123977661\n",
      "Epoch  9, CIFAR-10 Batch 3:  Loss=0.8679304718971252 ValidationAccuracy=0.5989999771118164\n",
      "Epoch  9, CIFAR-10 Batch 4:  Loss=0.8295392990112305 ValidationAccuracy=0.5960000157356262\n",
      "Epoch  9, CIFAR-10 Batch 5:  Loss=0.8382794857025146 ValidationAccuracy=0.5845999717712402\n",
      "Epoch 10, CIFAR-10 Batch 1:  Loss=0.8596028089523315 ValidationAccuracy=0.5910000205039978\n",
      "Epoch 10, CIFAR-10 Batch 2:  Loss=0.8553202748298645 ValidationAccuracy=0.597000002861023\n",
      "Epoch 10, CIFAR-10 Batch 3:  Loss=0.8159107565879822 ValidationAccuracy=0.5968000292778015\n",
      "Epoch 10, CIFAR-10 Batch 4:  Loss=0.7750974297523499 ValidationAccuracy=0.6039999723434448\n",
      "Epoch 10, CIFAR-10 Batch 5:  Loss=0.7766105532646179 ValidationAccuracy=0.5924000144004822\n",
      "Epoch 11, CIFAR-10 Batch 1:  Loss=0.8021470904350281 ValidationAccuracy=0.5874000191688538\n",
      "Epoch 11, CIFAR-10 Batch 2:  Loss=0.803472638130188 ValidationAccuracy=0.6028000116348267\n",
      "Epoch 11, CIFAR-10 Batch 3:  Loss=0.7733474969863892 ValidationAccuracy=0.598800003528595\n",
      "Epoch 11, CIFAR-10 Batch 4:  Loss=0.7389840483665466 ValidationAccuracy=0.6010000109672546\n",
      "Epoch 11, CIFAR-10 Batch 5:  Loss=0.6977354884147644 ValidationAccuracy=0.6050000190734863\n",
      "Epoch 12, CIFAR-10 Batch 1:  Loss=0.7416671514511108 ValidationAccuracy=0.5971999764442444\n",
      "Epoch 12, CIFAR-10 Batch 2:  Loss=0.7567898631095886 ValidationAccuracy=0.599399983882904\n",
      "Epoch 12, CIFAR-10 Batch 3:  Loss=0.7224921584129333 ValidationAccuracy=0.599399983882904\n",
      "Epoch 12, CIFAR-10 Batch 4:  Loss=0.707309365272522 ValidationAccuracy=0.597000002861023\n",
      "Epoch 12, CIFAR-10 Batch 5:  Loss=0.6611610651016235 ValidationAccuracy=0.6055999994277954\n",
      "Epoch 13, CIFAR-10 Batch 1:  Loss=0.6807105541229248 ValidationAccuracy=0.603600025177002\n",
      "Epoch 13, CIFAR-10 Batch 2:  Loss=0.7007578611373901 ValidationAccuracy=0.6043999791145325\n",
      "Epoch 13, CIFAR-10 Batch 3:  Loss=0.6643994450569153 ValidationAccuracy=0.6021999716758728\n",
      "Epoch 13, CIFAR-10 Batch 4:  Loss=0.6323466897010803 ValidationAccuracy=0.609000027179718\n",
      "Epoch 13, CIFAR-10 Batch 5:  Loss=0.6213648915290833 ValidationAccuracy=0.6104000210762024\n",
      "Epoch 14, CIFAR-10 Batch 1:  Loss=0.6422618627548218 ValidationAccuracy=0.6047999858856201\n",
      "Epoch 14, CIFAR-10 Batch 2:  Loss=0.6575544476509094 ValidationAccuracy=0.5983999967575073\n",
      "Epoch 14, CIFAR-10 Batch 3:  Loss=0.608633279800415 ValidationAccuracy=0.6032000184059143\n",
      "Epoch 14, CIFAR-10 Batch 4:  Loss=0.5692229270935059 ValidationAccuracy=0.6114000082015991\n",
      "Epoch 14, CIFAR-10 Batch 5:  Loss=0.5676259398460388 ValidationAccuracy=0.6111999750137329\n",
      "Epoch 15, CIFAR-10 Batch 1:  Loss=0.59037846326828 ValidationAccuracy=0.6100000143051147\n",
      "Epoch 15, CIFAR-10 Batch 2:  Loss=0.5964743494987488 ValidationAccuracy=0.6104000210762024\n",
      "Epoch 15, CIFAR-10 Batch 3:  Loss=0.5956115126609802 ValidationAccuracy=0.59579998254776\n",
      "Epoch 15, CIFAR-10 Batch 4:  Loss=0.5470266342163086 ValidationAccuracy=0.6019999980926514\n",
      "Epoch 15, CIFAR-10 Batch 5:  Loss=0.5421838164329529 ValidationAccuracy=0.6018000245094299\n",
      "Epoch 16, CIFAR-10 Batch 1:  Loss=0.575359046459198 ValidationAccuracy=0.600600004196167\n",
      "Epoch 16, CIFAR-10 Batch 2:  Loss=0.5486786961555481 ValidationAccuracy=0.6083999872207642\n",
      "Epoch 16, CIFAR-10 Batch 3:  Loss=0.5365440845489502 ValidationAccuracy=0.6051999926567078\n",
      "Epoch 16, CIFAR-10 Batch 4:  Loss=0.5442667603492737 ValidationAccuracy=0.5884000062942505\n",
      "Epoch 16, CIFAR-10 Batch 5:  Loss=0.4959266185760498 ValidationAccuracy=0.6025999784469604\n",
      "Epoch 17, CIFAR-10 Batch 1:  Loss=0.5031077861785889 ValidationAccuracy=0.6144000291824341\n",
      "Epoch 17, CIFAR-10 Batch 2:  Loss=0.5349165201187134 ValidationAccuracy=0.6119999885559082\n",
      "Epoch 17, CIFAR-10 Batch 3:  Loss=0.48870912194252014 ValidationAccuracy=0.6078000068664551\n",
      "Epoch 17, CIFAR-10 Batch 4:  Loss=0.4925117790699005 ValidationAccuracy=0.6104000210762024\n",
      "Epoch 17, CIFAR-10 Batch 5:  Loss=0.4816681742668152 ValidationAccuracy=0.5938000082969666\n",
      "Epoch 18, CIFAR-10 Batch 1:  Loss=0.4568011164665222 ValidationAccuracy=0.6266000270843506\n",
      "Epoch 18, CIFAR-10 Batch 2:  Loss=0.469402551651001 ValidationAccuracy=0.6133999824523926\n",
      "Epoch 18, CIFAR-10 Batch 3:  Loss=0.4591905176639557 ValidationAccuracy=0.6007999777793884\n",
      "Epoch 18, CIFAR-10 Batch 4:  Loss=0.45571306347846985 ValidationAccuracy=0.600600004196167\n",
      "Epoch 18, CIFAR-10 Batch 5:  Loss=0.42717456817626953 ValidationAccuracy=0.6051999926567078\n"
     ]
    },
    {
     "name": "stdout",
     "output_type": "stream",
     "text": [
      "Epoch 19, CIFAR-10 Batch 1:  Loss=0.43895891308784485 ValidationAccuracy=0.6137999892234802\n",
      "Epoch 19, CIFAR-10 Batch 2:  Loss=0.41956621408462524 ValidationAccuracy=0.614799976348877\n",
      "Epoch 19, CIFAR-10 Batch 3:  Loss=0.4021528661251068 ValidationAccuracy=0.6182000041007996\n",
      "Epoch 19, CIFAR-10 Batch 4:  Loss=0.4116344749927521 ValidationAccuracy=0.6115999817848206\n",
      "Epoch 19, CIFAR-10 Batch 5:  Loss=0.4119985103607178 ValidationAccuracy=0.6079999804496765\n",
      "Epoch 20, CIFAR-10 Batch 1:  Loss=0.38902851939201355 ValidationAccuracy=0.620199978351593\n",
      "Epoch 20, CIFAR-10 Batch 2:  Loss=0.41445377469062805 ValidationAccuracy=0.6126000285148621\n",
      "Epoch 20, CIFAR-10 Batch 3:  Loss=0.3711729645729065 ValidationAccuracy=0.6141999959945679\n",
      "Epoch 20, CIFAR-10 Batch 4:  Loss=0.36944109201431274 ValidationAccuracy=0.6141999959945679\n",
      "Epoch 20, CIFAR-10 Batch 5:  Loss=0.3856840133666992 ValidationAccuracy=0.6015999913215637\n",
      "Epoch 21, CIFAR-10 Batch 1:  Loss=0.37694621086120605 ValidationAccuracy=0.6132000088691711\n",
      "Epoch 21, CIFAR-10 Batch 2:  Loss=0.3765963613986969 ValidationAccuracy=0.6161999702453613\n",
      "Epoch 21, CIFAR-10 Batch 3:  Loss=0.356382817029953 ValidationAccuracy=0.6110000014305115\n",
      "Epoch 21, CIFAR-10 Batch 4:  Loss=0.411176472902298 ValidationAccuracy=0.5898000001907349\n",
      "Epoch 21, CIFAR-10 Batch 5:  Loss=0.3497443199157715 ValidationAccuracy=0.5935999751091003\n",
      "Epoch 22, CIFAR-10 Batch 1:  Loss=0.33689117431640625 ValidationAccuracy=0.6115999817848206\n",
      "Epoch 22, CIFAR-10 Batch 2:  Loss=0.3493705093860626 ValidationAccuracy=0.6011999845504761\n",
      "Epoch 22, CIFAR-10 Batch 3:  Loss=0.35555601119995117 ValidationAccuracy=0.5946000218391418\n",
      "Epoch 22, CIFAR-10 Batch 4:  Loss=0.3771568238735199 ValidationAccuracy=0.5881999731063843\n",
      "Epoch 22, CIFAR-10 Batch 5:  Loss=0.30550727248191833 ValidationAccuracy=0.6003999710083008\n",
      "Epoch 23, CIFAR-10 Batch 1:  Loss=0.29520413279533386 ValidationAccuracy=0.6177999973297119\n",
      "Epoch 23, CIFAR-10 Batch 2:  Loss=0.3086695969104767 ValidationAccuracy=0.6100000143051147\n",
      "Epoch 23, CIFAR-10 Batch 3:  Loss=0.31550753116607666 ValidationAccuracy=0.6018000245094299\n",
      "Epoch 23, CIFAR-10 Batch 4:  Loss=0.344977468252182 ValidationAccuracy=0.597599983215332\n",
      "Epoch 23, CIFAR-10 Batch 5:  Loss=0.31358855962753296 ValidationAccuracy=0.5885999798774719\n",
      "Epoch 24, CIFAR-10 Batch 1:  Loss=0.3136926293373108 ValidationAccuracy=0.6029999852180481\n",
      "Epoch 24, CIFAR-10 Batch 2:  Loss=0.32156601548194885 ValidationAccuracy=0.6096000075340271\n",
      "Epoch 24, CIFAR-10 Batch 3:  Loss=0.3189350962638855 ValidationAccuracy=0.6092000007629395\n",
      "Epoch 24, CIFAR-10 Batch 4:  Loss=0.3350488841533661 ValidationAccuracy=0.5965999960899353\n",
      "Epoch 24, CIFAR-10 Batch 5:  Loss=0.28206971287727356 ValidationAccuracy=0.6075999736785889\n",
      "Epoch 25, CIFAR-10 Batch 1:  Loss=0.3107360005378723 ValidationAccuracy=0.5985999703407288\n",
      "Epoch 25, CIFAR-10 Batch 2:  Loss=0.29669907689094543 ValidationAccuracy=0.6057999730110168\n",
      "Epoch 25, CIFAR-10 Batch 3:  Loss=0.26862961053848267 ValidationAccuracy=0.6097999811172485\n",
      "Epoch 25, CIFAR-10 Batch 4:  Loss=0.3148707449436188 ValidationAccuracy=0.5965999960899353\n",
      "Epoch 25, CIFAR-10 Batch 5:  Loss=0.2607108950614929 ValidationAccuracy=0.6060000061988831\n"
     ]
    }
   ],
   "source": [
    "\"\"\"\n",
    "DON'T MODIFY ANYTHING IN THIS CELL\n",
    "\"\"\"\n",
    "save_model_path = './image_classification'\n",
    "\n",
    "print('Training...')\n",
    "with tf.Session() as sess:\n",
    "    # Initializing the variables\n",
    "    sess.run(tf.global_variables_initializer())\n",
    "    \n",
    "    # Training cycle\n",
    "    for epoch in range(epochs):\n",
    "        # Loop over all batches\n",
    "        n_batches = 5\n",
    "        for batch_i in range(1, n_batches + 1):\n",
    "            for batch_features, batch_labels in helper.load_preprocess_training_batch(batch_i, batch_size):\n",
    "                train_neural_network(sess, optimizer, keep_probability, batch_features, batch_labels)\n",
    "            print('Epoch {:>2}, CIFAR-10 Batch {}:  '.format(epoch + 1, batch_i), end='')\n",
    "            print_stats(sess, batch_features, batch_labels, cost, accuracy)\n",
    "            \n",
    "    # Save Model\n",
    "    saver = tf.train.Saver()\n",
    "    save_path = saver.save(sess, save_model_path)"
   ]
  },
  {
   "cell_type": "markdown",
   "metadata": {},
   "source": [
    "# Checkpoint\n",
    "The model has been saved to disk.\n",
    "## Test Model\n",
    "Test your model against the test dataset.  This will be your final accuracy. You should have an accuracy greater than 50%. If you don't, keep tweaking the model architecture and parameters."
   ]
  },
  {
   "cell_type": "code",
   "execution_count": 22,
   "metadata": {},
   "outputs": [
    {
     "name": "stdout",
     "output_type": "stream",
     "text": [
      "INFO:tensorflow:Restoring parameters from ./image_classification\n",
      "Testing Accuracy: 0.6069497764110565\n",
      "\n"
     ]
    },
    {
     "data": {
      "image/png": "[encoded data removed]",
      "text/plain": [
       "<matplotlib.figure.Figure at 0x7f73eb588828>"
      ]
     },
     "metadata": {
      "image/png": {
       "height": 319,
       "width": 355
      }
     },
     "output_type": "display_data"
    }
   ],
   "source": [
    "\"\"\"\n",
    "DON'T MODIFY ANYTHING IN THIS CELL\n",
    "\"\"\"\n",
    "%matplotlib inline\n",
    "%config InlineBackend.figure_format = 'retina'\n",
    "\n",
    "import tensorflow as tf\n",
    "import pickle\n",
    "import helper\n",
    "import random\n",
    "\n",
    "# Set batch size if not already set\n",
    "try:\n",
    "    if batch_size:\n",
    "        pass\n",
    "except NameError:\n",
    "    batch_size = 64\n",
    "\n",
    "save_model_path = './image_classification'\n",
    "n_samples = 4\n",
    "top_n_predictions = 3\n",
    "\n",
    "def test_model():\n",
    "    \"\"\"\n",
    "    Test the saved model against the test dataset\n",
    "    \"\"\"\n",
    "\n",
    "    test_features, test_labels = pickle.load(open('preprocess_test.p', mode='rb'))\n",
    "    loaded_graph = tf.Graph()\n",
    "\n",
    "    with tf.Session(graph=loaded_graph) as sess:\n",
    "        # Load model\n",
    "        loader = tf.train.import_meta_graph(save_model_path + '.meta')\n",
    "        loader.restore(sess, save_model_path)\n",
    "\n",
    "        # Get Tensors from loaded model\n",
    "        loaded_x = loaded_graph.get_tensor_by_name('x:0')\n",
    "        loaded_y = loaded_graph.get_tensor_by_name('y:0')\n",
    "        loaded_keep_prob = loaded_graph.get_tensor_by_name('keep_prob:0')\n",
    "        loaded_logits = loaded_graph.get_tensor_by_name('logits:0')\n",
    "        loaded_acc = loaded_graph.get_tensor_by_name('accuracy:0')\n",
    "        \n",
    "        # Get accuracy in batches for memory limitations\n",
    "        test_batch_acc_total = 0\n",
    "        test_batch_count = 0\n",
    "        \n",
    "        for test_feature_batch, test_label_batch in helper.batch_features_labels(test_features, test_labels, batch_size):\n",
    "            test_batch_acc_total += sess.run(\n",
    "                loaded_acc,\n",
    "                feed_dict={loaded_x: test_feature_batch, loaded_y: test_label_batch, loaded_keep_prob: 1.0})\n",
    "            test_batch_count += 1\n",
    "\n",
    "        print('Testing Accuracy: {}\\n'.format(test_batch_acc_total/test_batch_count))\n",
    "\n",
    "        # Print Random Samples\n",
    "        random_test_features, random_test_labels = tuple(zip(*random.sample(list(zip(test_features, test_labels)), n_samples)))\n",
    "        random_test_predictions = sess.run(\n",
    "            tf.nn.top_k(tf.nn.softmax(loaded_logits), top_n_predictions),\n",
    "            feed_dict={loaded_x: random_test_features, loaded_y: random_test_labels, loaded_keep_prob: 1.0})\n",
    "        helper.display_image_predictions(random_test_features, random_test_labels, random_test_predictions)\n",
    "\n",
    "\n",
    "test_model()"
   ]
  },
  {
   "cell_type": "markdown",
   "metadata": {},
   "source": [
    "## Why 50-80% Accuracy?\n",
    "You might be wondering why you can't get an accuracy any higher. First things first, 50% isn't bad for a simple CNN.  Pure guessing would get you 10% accuracy. However, you might notice people are getting scores [well above 80%](http://rodrigob.github.io/are_we_there_yet/build/classification_datasets_results.html#43494641522d3130).  That's because we haven't taught you all there is to know about neural networks. We still need to cover a few more techniques.\n",
    "## Submitting This Project\n",
    "When submitting this project, make sure to run all the cells before saving the notebook.  Save the notebook file as \"dlnd_image_classification.ipynb\" and save it as a HTML file under \"File\" -> \"Download as\".  Include the \"helper.py\" and \"problem_unittests.py\" files in your submission."
   ]
  }
 ],
 "metadata": {
  "kernelspec": {
   "display_name": "Python 3",
   "language": "python",
   "name": "python3"
  },
  "language_info": {
   "codemirror_mode": {
    "name": "ipython",
    "version": 3
   },
   "file_extension": ".py",
   "mimetype": "text/x-python",
   "name": "python",
   "nbconvert_exporter": "python",
   "pygments_lexer": "ipython3",
   "version": "3.6.1"
  }
 },
 "nbformat": 4,
 "nbformat_minor": 1
}
